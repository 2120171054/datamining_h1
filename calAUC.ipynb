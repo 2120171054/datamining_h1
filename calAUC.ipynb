{
 "cells": [
  {
   "cell_type": "code",
   "execution_count": 1,
   "id": "3befc307",
   "metadata": {},
   "outputs": [
    {
     "name": "stderr",
     "output_type": "stream",
     "text": [
      "/tmp/ipykernel_40910/193146685.py:26: VisibleDeprecationWarning: Creating an ndarray from ragged nested sequences (which is a list-or-tuple of lists-or-tuples-or ndarrays with different lengths or shapes) is deprecated. If you meant to do this, you must specify 'dtype=object' when creating the ndarray\n",
      "  dur=np.array(dur)\n",
      "/tmp/ipykernel_40910/193146685.py:26: VisibleDeprecationWarning: Creating an ndarray from ragged nested sequences (which is a list-or-tuple of lists-or-tuples-or ndarrays with different lengths or shapes) is deprecated. If you meant to do this, you must specify 'dtype=object' when creating the ndarray\n",
      "  dur=np.array(dur)\n",
      "/tmp/ipykernel_40910/193146685.py:26: VisibleDeprecationWarning: Creating an ndarray from ragged nested sequences (which is a list-or-tuple of lists-or-tuples-or ndarrays with different lengths or shapes) is deprecated. If you meant to do this, you must specify 'dtype=object' when creating the ndarray\n",
      "  dur=np.array(dur)\n",
      "/tmp/ipykernel_40910/193146685.py:26: VisibleDeprecationWarning: Creating an ndarray from ragged nested sequences (which is a list-or-tuple of lists-or-tuples-or ndarrays with different lengths or shapes) is deprecated. If you meant to do this, you must specify 'dtype=object' when creating the ndarray\n",
      "  dur=np.array(dur)\n"
     ]
    },
    {
     "name": "stdout",
     "output_type": "stream",
     "text": [
      "77 83\n",
      "0.890913542914741 0.18137254901960786 1439 1439 0.5974207645160953 0 0\n",
      "272 320\n",
      "0.653618137755613 0.5056179775280899 2650 2650 0.8142437462652025 1 1439\n",
      "294 340\n",
      "0.7393994390364627 0.3448275862068966 3573 3573 0.7984679428405111 2 2650\n",
      "379 428\n",
      "0.9876104857596132 0.043010752688172005 4520 4520 0.7526430110089168 3 3573\n",
      "468 786\n",
      "0.844250622997508 0.17924528301886788 5527 5527 0.6443426683350221 4 4520\n",
      "344 625\n",
      "0.9000180147721131 0.21678321678321677 6810 6810 0.6113101034781476 5 5527\n",
      "299 307\n",
      "0.949718314610532 0.08943089430894313 7415 7415 0.687011784434606 6 6810\n"
     ]
    },
    {
     "name": "stderr",
     "output_type": "stream",
     "text": [
      "/tmp/ipykernel_40910/193146685.py:26: VisibleDeprecationWarning: Creating an ndarray from ragged nested sequences (which is a list-or-tuple of lists-or-tuples-or ndarrays with different lengths or shapes) is deprecated. If you meant to do this, you must specify 'dtype=object' when creating the ndarray\n",
      "  dur=np.array(dur)\n",
      "/tmp/ipykernel_40910/193146685.py:26: VisibleDeprecationWarning: Creating an ndarray from ragged nested sequences (which is a list-or-tuple of lists-or-tuples-or ndarrays with different lengths or shapes) is deprecated. If you meant to do this, you must specify 'dtype=object' when creating the ndarray\n",
      "  dur=np.array(dur)\n",
      "/tmp/ipykernel_40910/193146685.py:26: VisibleDeprecationWarning: Creating an ndarray from ragged nested sequences (which is a list-or-tuple of lists-or-tuples-or ndarrays with different lengths or shapes) is deprecated. If you meant to do this, you must specify 'dtype=object' when creating the ndarray\n",
      "  dur=np.array(dur)\n",
      "/tmp/ipykernel_40910/193146685.py:26: VisibleDeprecationWarning: Creating an ndarray from ragged nested sequences (which is a list-or-tuple of lists-or-tuples-or ndarrays with different lengths or shapes) is deprecated. If you meant to do this, you must specify 'dtype=object' when creating the ndarray\n",
      "  dur=np.array(dur)\n"
     ]
    },
    {
     "name": "stdout",
     "output_type": "stream",
     "text": [
      "135 183\n",
      "0.6319955946792474 0.47404844290657444 8626 8626 0.7371038029339442 8 7451\n",
      "570 583\n",
      "0.6117624569899326 0.3458646616541353 9467 9467 0.6746644646522906 9 8626\n",
      "12 34\n"
     ]
    },
    {
     "name": "stderr",
     "output_type": "stream",
     "text": [
      "/tmp/ipykernel_40910/193146685.py:26: VisibleDeprecationWarning: Creating an ndarray from ragged nested sequences (which is a list-or-tuple of lists-or-tuples-or ndarrays with different lengths or shapes) is deprecated. If you meant to do this, you must specify 'dtype=object' when creating the ndarray\n",
      "  dur=np.array(dur)\n",
      "/tmp/ipykernel_40910/193146685.py:26: VisibleDeprecationWarning: Creating an ndarray from ragged nested sequences (which is a list-or-tuple of lists-or-tuples-or ndarrays with different lengths or shapes) is deprecated. If you meant to do this, you must specify 'dtype=object' when creating the ndarray\n",
      "  dur=np.array(dur)\n",
      "/tmp/ipykernel_40910/193146685.py:26: VisibleDeprecationWarning: Creating an ndarray from ragged nested sequences (which is a list-or-tuple of lists-or-tuples-or ndarrays with different lengths or shapes) is deprecated. If you meant to do this, you must specify 'dtype=object' when creating the ndarray\n",
      "  dur=np.array(dur)\n"
     ]
    },
    {
     "name": "stdout",
     "output_type": "stream",
     "text": [
      "0.8383934620596207 0.23611111111111116 9939 9939 0.7093811219371574 10 9467\n",
      "538 579\n",
      "0.8930668484346853 0.17894736842105263 11210 11210 0.6976879483810728 11 9939\n",
      "258 286\n",
      "0.8801969057665261 0.2533333333333333 11759 11759 0.6697406354382247 12 11210\n",
      "398 410\n",
      "0.6263966044566507 0.3648648648648649 12266 12266 0.7192029982721931 13 11759\n"
     ]
    },
    {
     "name": "stderr",
     "output_type": "stream",
     "text": [
      "/tmp/ipykernel_40910/193146685.py:26: VisibleDeprecationWarning: Creating an ndarray from ragged nested sequences (which is a list-or-tuple of lists-or-tuples-or ndarrays with different lengths or shapes) is deprecated. If you meant to do this, you must specify 'dtype=object' when creating the ndarray\n",
      "  dur=np.array(dur)\n",
      "/tmp/ipykernel_40910/193146685.py:26: VisibleDeprecationWarning: Creating an ndarray from ragged nested sequences (which is a list-or-tuple of lists-or-tuples-or ndarrays with different lengths or shapes) is deprecated. If you meant to do this, you must specify 'dtype=object' when creating the ndarray\n",
      "  dur=np.array(dur)\n",
      "/tmp/ipykernel_40910/193146685.py:26: VisibleDeprecationWarning: Creating an ndarray from ragged nested sequences (which is a list-or-tuple of lists-or-tuples-or ndarrays with different lengths or shapes) is deprecated. If you meant to do this, you must specify 'dtype=object' when creating the ndarray\n",
      "  dur=np.array(dur)\n"
     ]
    },
    {
     "name": "stdout",
     "output_type": "stream",
     "text": [
      "497 587\n",
      "0.9790828149774362 0.0888888888888889 13267 13267 0.6714871338428015 14 12266\n",
      "631 740\n",
      "0.4535395978423647 0.5963302752293578 14007 14007 0.5742682069343944 15 13267\n",
      "98 56\n",
      "0.6337425595238095 0.4765625 14433 14433 0.7244932435250937 16 14007\n",
      "108 248\n"
     ]
    },
    {
     "name": "stderr",
     "output_type": "stream",
     "text": [
      "/tmp/ipykernel_40910/193146685.py:26: VisibleDeprecationWarning: Creating an ndarray from ragged nested sequences (which is a list-or-tuple of lists-or-tuples-or ndarrays with different lengths or shapes) is deprecated. If you meant to do this, you must specify 'dtype=object' when creating the ndarray\n",
      "  dur=np.array(dur)\n",
      "/tmp/ipykernel_40910/193146685.py:26: VisibleDeprecationWarning: Creating an ndarray from ragged nested sequences (which is a list-or-tuple of lists-or-tuples-or ndarrays with different lengths or shapes) is deprecated. If you meant to do this, you must specify 'dtype=object' when creating the ndarray\n",
      "  dur=np.array(dur)\n",
      "/tmp/ipykernel_40910/193146685.py:26: VisibleDeprecationWarning: Creating an ndarray from ragged nested sequences (which is a list-or-tuple of lists-or-tuples-or ndarrays with different lengths or shapes) is deprecated. If you meant to do this, you must specify 'dtype=object' when creating the ndarray\n",
      "  dur=np.array(dur)\n",
      "/tmp/ipykernel_40910/193146685.py:26: VisibleDeprecationWarning: Creating an ndarray from ragged nested sequences (which is a list-or-tuple of lists-or-tuples-or ndarrays with different lengths or shapes) is deprecated. If you meant to do this, you must specify 'dtype=object' when creating the ndarray\n",
      "  dur=np.array(dur)\n"
     ]
    },
    {
     "name": "stdout",
     "output_type": "stream",
     "text": [
      "0.9259259259259258 0.15000000000000002 14975 14975 0.7586799148414832 18 14727\n",
      "64 144\n",
      "0.6165011459129106 0.48051948051948057 15248 15248 0.6886296721960169 19 14975\n",
      "13 66\n",
      "0.955312810327706 0.1132075471698113 15320 15320 0.7213361886604006 20 15248\n",
      "0.7900760676180737 0.27994561756065284\n"
     ]
    },
    {
     "name": "stderr",
     "output_type": "stream",
     "text": [
      "/tmp/ipykernel_40910/193146685.py:26: VisibleDeprecationWarning: Creating an ndarray from ragged nested sequences (which is a list-or-tuple of lists-or-tuples-or ndarrays with different lengths or shapes) is deprecated. If you meant to do this, you must specify 'dtype=object' when creating the ndarray\n",
      "  dur=np.array(dur)\n",
      "/tmp/ipykernel_40910/193146685.py:26: VisibleDeprecationWarning: Creating an ndarray from ragged nested sequences (which is a list-or-tuple of lists-or-tuples-or ndarrays with different lengths or shapes) is deprecated. If you meant to do this, you must specify 'dtype=object' when creating the ndarray\n",
      "  dur=np.array(dur)\n"
     ]
    },
    {
     "name": "stdout",
     "output_type": "stream",
     "text": [
      "77 83\n",
      "0.6616219811439117 0.4035560344827587\n"
     ]
    }
   ],
   "source": [
    "import numpy as np\n",
    "import os\n",
    "import shutil\n",
    "import time\n",
    "import linecache\n",
    "from sklearn.metrics import roc_curve, auc,roc_auc_score\n",
    "import scipy.ndimage as ndi\n",
    "\n",
    "mode=2# 0: ae 1:cls 2:cls_env\n",
    "def savefig(gts,scores,fn):\n",
    "    import matplotlib\n",
    "    matplotlib.rcParams['backend']='SVG'\n",
    "    import matplotlib.pyplot as plt\n",
    "    frame_num=len(scores)\n",
    "    x = range(frame_num)  #fake data\n",
    "    y = scores\n",
    "    fig, ax = plt.subplots()\n",
    "    \n",
    "    ax.plot(x, y, 'k')\n",
    "    ax.grid()\n",
    "    ax.margins(0) # remove default margins (matplotlib verision 2+)\n",
    "    dur=[0]\n",
    "    for i in range(frame_num-1):\n",
    "        dur.append(gts[i+1]-gts[i])\n",
    "    dur.append(0-gts[frame_num-1])\n",
    "    dur=np.array(dur)\n",
    "    st_f=np.where(dur==1)\n",
    "    et_f=np.where(dur==-1)\n",
    "#     print(st_f[0],et_f[0])\n",
    "    if len(st_f[0])>0:\n",
    "        for j in range(len(st_f)):\n",
    "            print(st_f[0][j],et_f[0][j])\n",
    "            ax.axvspan(st_f[0][j], et_f[0][j], facecolor='red', alpha=0.5)\n",
    "\n",
    "    \n",
    "#     plt.show()\n",
    "    if mode==0:\n",
    "        plt.savefig('./vis_ae/'+str(fn)+'.svg',format='svg')\n",
    "    if mode==1:\n",
    "        plt.savefig('./vis_cls/'+str(fn)+'.svg',format='svg')\n",
    "    if mode==2:\n",
    "        plt.savefig('./vis_env/'+str(fn)+'.svg',format='svg')\n",
    "def score_smoothing2(score,sigma=12):\n",
    "\n",
    "    r = 10\n",
    "    if r > score.shape[0] // 2:\n",
    "        r = score.shape[0] // 2 - 1\n",
    "    if r % 2 == 0:\n",
    "        r += 1\n",
    "    gaussian_temp=np.ones(r*2-1)\n",
    "    for i in range(r*2-1):\n",
    "        gaussian_temp[i]=np.exp(-(i-r)**2/(2*sigma**2))/(sigma*np.sqrt(2*np.pi))\n",
    "    new_score=score\n",
    "    for i in range(r,score.shape[0]-r):\n",
    "        new_score[i]=np.dot(score[i-r:i+r-1],gaussian_temp)\n",
    "    return new_score\n",
    "def main():\n",
    "  total=0\n",
    "  total_eer=0\n",
    "  # video_frame=[143,121,92,94,100,128,60,3,117,84,47,127,54,50,100,74,42,29,24,27,7]\n",
    "  video_frame=[1439,1211,923,947,1007,1283,605,36,1175,841,472,1271,549,507,1001,740,426,294,248,273,72]\n",
    "#   video_frame=[89,75,57,59,62,80,37,2,73,52,29,79,34,31,62,46,26,18,15,17,4]\n",
    "  sframe=0\n",
    "  mean_value=np.zeros((21,1))\n",
    "\n",
    "  num=0\n",
    "  total_score=np.zeros((15324,1))\n",
    "  total_gt=np.zeros((15324,1))\n",
    "  if mode==0:\n",
    "    reclosspath='total_loss.npy'\n",
    "    gtpath='total_label.npy'\n",
    "  if mode==1:\n",
    "    reclosspath='total_loss_cls.npy'\n",
    "    gtpath='total_label.npy'\n",
    "  if mode==2:\n",
    "    reclosspath='total_loss_evi.npy'\n",
    "    gtpath='total_label.npy'\n",
    "  for filename in range(0,21):\n",
    "    \n",
    "    count=video_frame[filename]\n",
    "    \n",
    "    j = 0;\n",
    "    loss_total = 0\n",
    "    eframe=sframe+count;\n",
    "\n",
    "    gt=np.reshape(np.load(gtpath),(15324,1))\n",
    "    \n",
    "    gt=gt[sframe:eframe,:]\n",
    "    total_gt[sframe:eframe]=gt\n",
    "    recloss=np.reshape(np.load(reclosspath),(15324,1))\n",
    "    # precal-minmax\n",
    "#     maxrec=np.max(recloss)\n",
    "#     minrec=np.min(recloss)\n",
    "#     recloss=[(x-minrec)/(maxrec) for x in recloss]\n",
    "#     recloss=np.reshape(recloss,(15324,1))\n",
    "    ####\n",
    "    recloss=recloss[sframe:eframe,:]\n",
    "    \n",
    "    gtline=gt\n",
    "#     reclossline=np.array(recloss)\n",
    "#     reclossline=np.reshape(reclossline,[count*16,1])\n",
    "    gtline=np.reshape(gtline,[count*1,1])\n",
    "    maxrec=np.max(recloss)\n",
    "    minrec=np.min(recloss)\n",
    "    score=[x for x in recloss]\n",
    "    score=[(x-minrec)/(maxrec-minrec) for x in recloss]\n",
    "    \n",
    "#     score=ndi.gaussian_filter1d(score, sigma= 10,order=0, output=np.float64, mode='constant',cval=0,truncate=10)\n",
    "    score=np.reshape(score_smoothing2(np.reshape(np.array(score),(count,))),(count,1))\n",
    "    total_score[sframe:eframe]=score\n",
    "\n",
    "#     reclossline=recloss[sframe:eframe,:]\n",
    "    score=1-np.reshape(score,(count*1,1))\n",
    "    temp_gt=gt\n",
    "    gt=gt.reshape((count*1,1))\n",
    "\n",
    "    sframe=eframe\n",
    "#     mean_value[filename]=np.mean(reclossline)\n",
    "    if sum(gt)==count*1 or sum(gt)==0:\n",
    "      continue;\n",
    "    \n",
    "    auc=roc_auc_score(gt,score)\n",
    "    fpr, tpr, threshold = roc_curve(gt, score, pos_label=1)\n",
    "    if filename==18:\n",
    "        np.savetxt('18_gt.txt',gt)\n",
    "        if mode==0:\n",
    "            np.savetxt('18_0_scores.txt',score)\n",
    "        if mode==1:\n",
    "            np.savetxt('18_1_scores.txt',score)\n",
    "        if mode==2:\n",
    "            np.savetxt('18_2_scores.txt',score)\n",
    "    savefig(gt,score,filename)\n",
    "    fnr = 1 - tpr\n",
    "    eer_threshold = threshold[np.nanargmin(np.absolute((fnr - fpr)))]\n",
    "    EER = fnr[np.nanargmin(np.absolute((fnr - fpr)))]\n",
    "    total+=auc\n",
    "    total_eer+=EER\n",
    "    num+=1\n",
    "    print (auc,EER,sframe,eframe,np.mean(score),filename,sum(video_frame[:filename]))\n",
    "  print (total/num,total_eer/num)\n",
    "  total_score=1-total_score.reshape((15324,1))\n",
    "  total_gt=total_gt.reshape((15324,1))\n",
    "  if mode==0:\n",
    "      np.savetxt(\"0_Avenue_scroes.txt\",total_score)\n",
    "      np.savetxt(\"0_Avenue_gt.txt\",total_gt)\n",
    "  if mode==1:\n",
    "      np.savetxt(\"1_Avenue_scroes.txt\",total_score)\n",
    "      np.savetxt(\"1_Avenue_gt.txt\",total_gt)\n",
    "  if mode==2:\n",
    "      np.savetxt(\"2_Avenue_scroes.txt\",total_score)\n",
    "      np.savetxt(\"2_Avenue_gt.txt\",total_gt)\n",
    "  auc=roc_auc_score(total_gt,total_score)\n",
    "  fpr, tpr, threshold = roc_curve(total_gt, total_score, pos_label=1)\n",
    "  savefig(total_gt,total_score,22)\n",
    "  fnr = 1 - tpr\n",
    "  eer_threshold = threshold[np.nanargmin(np.absolute((fnr - fpr)))]\n",
    "  EER = fnr[np.nanargmin(np.absolute((fnr - fpr)))]\n",
    "  total+=auc\n",
    "  print (auc,EER)\n",
    "if __name__ == '__main__':\n",
    "    main()"
   ]
  },
  {
   "cell_type": "code",
   "execution_count": null,
   "id": "1477629a",
   "metadata": {},
   "outputs": [],
   "source": [
    "\n"
   ]
  }
 ],
 "metadata": {
  "kernelspec": {
   "display_name": "sc_001",
   "language": "python",
   "name": "sc_001"
  },
  "language_info": {
   "codemirror_mode": {
    "name": "ipython",
    "version": 3
   },
   "file_extension": ".py",
   "mimetype": "text/x-python",
   "name": "python",
   "nbconvert_exporter": "python",
   "pygments_lexer": "ipython3",
   "version": "3.8.12"
  }
 },
 "nbformat": 4,
 "nbformat_minor": 5
}
